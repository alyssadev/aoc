{
 "cells": [
  {
   "cell_type": "markdown",
   "metadata": {},
   "source": [
    "## [2015-01](https://adventofcode.com/2015/day/1)"
   ]
  },
  {
   "cell_type": "code",
   "execution_count": 1,
   "metadata": {},
   "outputs": [
    {
     "name": "stdout",
     "output_type": "stream",
     "text": [
      "232\n"
     ]
    }
   ],
   "source": [
    "with open(\"input/201501.txt\") as f:\n",
    "    inp = f.read().strip()\n",
    "\n",
    "print(inp.count(\"(\")-inp.count(\")\"))"
   ]
  },
  {
   "cell_type": "code",
   "execution_count": 2,
   "metadata": {},
   "outputs": [
    {
     "name": "stdout",
     "output_type": "stream",
     "text": [
      "1783\n"
     ]
    }
   ],
   "source": [
    "def main_2():\n",
    "    location = 0\n",
    "    for n,direction in enumerate(inp):\n",
    "        if direction == \"(\":\n",
    "            location += 1\n",
    "        elif direction == \")\":\n",
    "            location -= 1\n",
    "        if location < 0:\n",
    "            print(n+1) # ew one-indexing lol\n",
    "            return\n",
    "\n",
    "main_2()"
   ]
  },
  {
   "cell_type": "markdown",
   "metadata": {},
   "source": [
    "## [2015-02](https://adventofcode.com/2015/day/2)"
   ]
  },
  {
   "cell_type": "code",
   "execution_count": 3,
   "metadata": {},
   "outputs": [
    {
     "name": "stdout",
     "output_type": "stream",
     "text": [
      "1598415\n"
     ]
    }
   ],
   "source": [
    "with open(\"input/201502.txt\") as f:\n",
    "    inp = f.read().strip()\n",
    "\n",
    "total = 0\n",
    "for l,w,h in [map(int,i.split(\"x\")) for i in inp.split(\"\\n\")]:\n",
    "    area = (2*l*w, 2*w*h, 2*h*l)\n",
    "    excess = min(area)//2\n",
    "    total += sum(area) + excess\n",
    "print(total)"
   ]
  },
  {
   "cell_type": "code",
   "execution_count": 4,
   "metadata": {},
   "outputs": [
    {
     "name": "stdout",
     "output_type": "stream",
     "text": [
      "3812909\n"
     ]
    }
   ],
   "source": [
    "total = 0\n",
    "for l,w,h in [map(int,i.split(\"x\")) for i in inp.split(\"\\n\")]:\n",
    "    x,y = sorted([l,w,h])[:-1]\n",
    "    around = x*2+y*2\n",
    "    ribbon = l*w*h\n",
    "    total += around + ribbon\n",
    "print(total)"
   ]
  },
  {
   "cell_type": "markdown",
   "metadata": {},
   "source": [
    "## [2015-03](https://adventofcode.com/2015/day/3)"
   ]
  },
  {
   "cell_type": "code",
   "execution_count": 5,
   "metadata": {},
   "outputs": [
    {
     "name": "stdout",
     "output_type": "stream",
     "text": [
      "2565\n"
     ]
    }
   ],
   "source": [
    "with open(\"input/201503.txt\") as f:\n",
    "    inp = f.read().strip()\n",
    "\n",
    "from collections import defaultdict\n",
    "\n",
    "x,y = 0,0\n",
    "\n",
    "houses = defaultdict(int)\n",
    "houses[(0,0)] += 1\n",
    "\n",
    "for direction in inp:\n",
    "    if direction == \"^\":\n",
    "        y += 1\n",
    "    elif direction == \"v\":\n",
    "        y -= 1\n",
    "    elif direction == \"<\":\n",
    "        x -= 1\n",
    "    elif direction == \">\":\n",
    "        x += 1\n",
    "    houses[(x,y)] += 1\n",
    "print(len(houses))"
   ]
  },
  {
   "cell_type": "code",
   "execution_count": 6,
   "metadata": {},
   "outputs": [
    {
     "name": "stdout",
     "output_type": "stream",
     "text": [
      "2639\n",
      "<Santa: (3,-91)> <Robo-Santa: (38,4)>\n"
     ]
    }
   ],
   "source": [
    "class Santa:\n",
    "    x = 0\n",
    "    y = 0\n",
    "    def __init__(self,name=\"Santa\"):\n",
    "        self.name = name\n",
    "    def __repr__(self):\n",
    "        return f\"<{self.name}: ({self.x},{self.y})>\"\n",
    "\n",
    "SANTA = Santa()\n",
    "ROBO = Santa(name=\"Robo-Santa\")\n",
    "\n",
    "houses = defaultdict(int)\n",
    "houses[(0,0)] += 2\n",
    "\n",
    "for n,direction in enumerate(inp):\n",
    "    if n % 2:\n",
    "        santa = ROBO\n",
    "    else:\n",
    "        santa = SANTA\n",
    "#    print(santa.name)\n",
    "#    print(\"{} {}\".format(santa.x, santa.y))\n",
    "    if direction == \"^\":\n",
    "        santa.y += 1\n",
    "    elif direction == \"v\":\n",
    "        santa.y -= 1\n",
    "    elif direction == \"<\":\n",
    "        santa.x -= 1\n",
    "    elif direction == \">\":\n",
    "        santa.x += 1\n",
    "#    print(\"{} {} {}\".format(direction, santa.x, santa.y))\n",
    "    houses[(santa.x,santa.y)] += 1\n",
    "#    sleep(0.5)\n",
    "print(len(houses))\n",
    "print(SANTA, ROBO)"
   ]
  },
  {
   "cell_type": "markdown",
   "metadata": {},
   "source": [
    "## [2015-04](https://adventofcode.com/2015/day/4)"
   ]
  },
  {
   "cell_type": "code",
   "execution_count": 2,
   "metadata": {},
   "outputs": [
    {
     "name": "stdout",
     "output_type": "stream",
     "text": [
      "117946\n"
     ]
    }
   ],
   "source": [
    "with open(\"input/201504.txt\") as f:\n",
    "    inp = f.read().strip()\n",
    "\n",
    "from hashlib import md5\n",
    "\n",
    "x = 0\n",
    "while 1:\n",
    "    if md5(f\"{inp}{x}\".encode(\"utf-8\")).hexdigest()[:5] == \"00000\":\n",
    "        print(x)\n",
    "        break\n",
    "    x += 1"
   ]
  },
  {
   "cell_type": "code",
   "execution_count": 3,
   "metadata": {},
   "outputs": [
    {
     "name": "stdout",
     "output_type": "stream",
     "text": [
      "117946\n",
      "3938038\n"
     ]
    }
   ],
   "source": [
    "def main_2(zero_count=6):\n",
    "    x = 0\n",
    "    while 1:\n",
    "        if md5(f\"{inp}{x}\".encode(\"utf-8\")).hexdigest()[:zero_count] == \"0\" * zero_count:\n",
    "            print(x)\n",
    "            break\n",
    "        x += 1\n",
    "\n",
    "main_2(zero_count=5)\n",
    "main_2(zero_count=6)"
   ]
  },
  {
   "cell_type": "markdown",
   "metadata": {},
   "source": [
    "## [2015-05](https://adventofcode.com/2015/day/5)"
   ]
  },
  {
   "cell_type": "code",
   "execution_count": 11,
   "metadata": {},
   "outputs": [
    {
     "name": "stdout",
     "output_type": "stream",
     "text": [
      "258\n"
     ]
    }
   ],
   "source": [
    "with open(\"input/201505.txt\") as f:\n",
    "    inp = f.read().strip()\n",
    "\n",
    "from string import ascii_lowercase\n",
    "\n",
    "def is_nice(line):\n",
    "    if any(s in line for s in [\"ab\", \"cd\", \"pq\", \"xy\"]):\n",
    "        return False\n",
    "    vowel_count = len([c for c in line if c in \"aeiou\"]) >= 3\n",
    "    double_letters = any(l*2 in line for l in ascii_lowercase)\n",
    "    return vowel_count and double_letters\n",
    "\n",
    "naughty_or_nice = [is_nice(line) for line in inp.split(\"\\n\")]\n",
    "print(naughty_or_nice.count(True))"
   ]
  }
 ],
 "metadata": {
  "kernelspec": {
   "display_name": "Python 3",
   "language": "python",
   "name": "python3"
  },
  "language_info": {
   "codemirror_mode": {
    "name": "ipython",
    "version": 3
   },
   "file_extension": ".py",
   "mimetype": "text/x-python",
   "name": "python",
   "nbconvert_exporter": "python",
   "pygments_lexer": "ipython3",
   "version": "3.8.5"
  }
 },
 "nbformat": 4,
 "nbformat_minor": 4
}
