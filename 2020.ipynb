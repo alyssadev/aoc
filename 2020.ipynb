{
 "cells": [
  {
   "cell_type": "markdown",
   "metadata": {},
   "source": [
    "## [2020-01](https://adventofcode.com/2020/day/1)"
   ]
  },
  {
   "cell_type": "code",
   "execution_count": 1,
   "metadata": {},
   "outputs": [
    {
     "name": "stdout",
     "output_type": "stream",
     "text": [
      "1204 816\n",
      "982464\n"
     ]
    }
   ],
   "source": [
    "with open(\"input/202001.txt\") as f:\n",
    "    _input = list(map(int, f.read().strip().split(\"\\n\")))\n",
    "\n",
    "def main_1():\n",
    "    for x in _input:\n",
    "        for y in _input:\n",
    "            if x + y == 2020:\n",
    "                print(f\"{x} {y}\")\n",
    "                print(x*y)\n",
    "                return\n",
    "\n",
    "main_1()"
   ]
  },
  {
   "cell_type": "code",
   "execution_count": 2,
   "metadata": {},
   "outputs": [
    {
     "name": "stdout",
     "output_type": "stream",
     "text": [
      "162292410\n"
     ]
    }
   ],
   "source": [
    "from itertools import combinations\n",
    "from math import prod\n",
    "n = 3\n",
    "\n",
    "def main_2():\n",
    "    print([prod(c) for c in combinations(_input, n) if sum(c) == 2020][0])\n",
    "\n",
    "main_2()"
   ]
  },
  {
   "cell_type": "markdown",
   "metadata": {},
   "source": [
    "## [2020-02](https://adventofcode.com/2020/day/2)"
   ]
  },
  {
   "cell_type": "code",
   "execution_count": 1,
   "metadata": {},
   "outputs": [
    {
     "name": "stdout",
     "output_type": "stream",
     "text": [
      "542\n"
     ]
    }
   ],
   "source": [
    "with open(\"input/202002.txt\") as f:\n",
    "    _input = f.read().strip().split(\"\\n\")\n",
    "\n",
    "valid_count = 0\n",
    "for line in _input:\n",
    "    policy, char, pwd = line.split()\n",
    "    char = char[:-1]\n",
    "    px,py = map(int,policy.split(\"-\"))\n",
    "    if not char in pwd:\n",
    "        continue\n",
    "    if pwd.count(char) < px or pwd.count(char) > py:\n",
    "        continue\n",
    "    valid_count += 1\n",
    "print(valid_count)"
   ]
  },
  {
   "cell_type": "code",
   "execution_count": 3,
   "metadata": {},
   "outputs": [
    {
     "name": "stdout",
     "output_type": "stream",
     "text": [
      "360\n"
     ]
    }
   ],
   "source": [
    "valid_count = 0\n",
    "for line in _input:\n",
    "    policy, char, pwd = line.split()\n",
    "    char = char[:-1]\n",
    "    px,py = map(int,policy.split(\"-\"))\n",
    "    if (pwd[px-1] == char and pwd[py-1] != char) or \\\n",
    "       (pwd[px-1] != char and pwd[py-1] == char):\n",
    "            valid_count += 1\n",
    "print(valid_count)"
   ]
  },
  {
   "cell_type": "markdown",
   "metadata": {},
   "source": [
    "## [2020-03](https://adventofcode.com/2020/day/3)"
   ]
  },
  {
   "cell_type": "code",
   "execution_count": 6,
   "metadata": {},
   "outputs": [
    {
     "name": "stdout",
     "output_type": "stream",
     "text": [
      "294\n"
     ]
    }
   ],
   "source": [
    "with open(\"input/202003.txt\") as f:\n",
    "    _input = f.read().strip().split(\"\\n\")\n",
    "\n",
    "x = 0\n",
    "TREES = 0\n",
    "#print(_input[0])\n",
    "for line in _input[1:]:\n",
    "    x += 3\n",
    "    if x > len(line)-1:\n",
    "        x = x - len(line)\n",
    "    if line[x] == \"#\":\n",
    "        TREES += 1\n",
    "#    print(line[:x] + (\"X\" if line[x] == \"#\" else \"O\") + line[x+1:])\n",
    "print(TREES)"
   ]
  },
  {
   "cell_type": "markdown",
   "metadata": {},
   "source": [
    "```python\n",
    "# wip\n",
    "from collections import defaultdict as dd\n",
    "SLOPE1,SLOPE2,SLOPE3,SLOPE4,SLOPE5 = map(lambda _: dd(int), range(5))\n",
    "#print(_input[0])\n",
    "for n,line in enumerate(_input[1:]):\n",
    "    SLOPE1[\"x\"] += 1\n",
    "    SLOPE2[\"x\"] += 3\n",
    "    SLOPE3[\"x\"] += 5\n",
    "    SLOPE4[\"x\"] += 7\n",
    "    SLOPE5[\"x\"] += 1\n",
    "    if n % 2 != 0:\n",
    "        \n",
    "    x += 3\n",
    "    if x > len(line)-1:\n",
    "        x = x - len(line)\n",
    "    if line[x] == \"#\":\n",
    "        TREES += 1\n",
    "#    print(line[:x] + (\"X\" if line[x] == \"#\" else \"O\") + line[x+1:])\n",
    "print(TREES)\n",
    "```"
   ]
  },
  {
   "cell_type": "code",
   "execution_count": null,
   "metadata": {},
   "outputs": [],
   "source": []
  }
 ],
 "metadata": {
  "kernelspec": {
   "display_name": "Python 3",
   "language": "python",
   "name": "python3"
  },
  "language_info": {
   "codemirror_mode": {
    "name": "ipython",
    "version": 3
   },
   "file_extension": ".py",
   "mimetype": "text/x-python",
   "name": "python",
   "nbconvert_exporter": "python",
   "pygments_lexer": "ipython3",
   "version": "3.8.5"
  }
 },
 "nbformat": 4,
 "nbformat_minor": 4
}
